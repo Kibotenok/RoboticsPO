{
 "cells": [
  {
   "cell_type": "code",
   "execution_count": 1,
   "metadata": {},
   "outputs": [],
   "source": [
    "# Лабораторная работа №3 (Доп)\n",
    "from urllib import request\n",
    "from lxml import html\n",
    "import pandas as pd\n",
    "import numpy as np"
   ]
  },
  {
   "cell_type": "code",
   "execution_count": 2,
   "metadata": {},
   "outputs": [],
   "source": [
    "def get_page(url):\n",
    "    \"\"\"\n",
    "    Получение html страницы по URL\n",
    "    :param url: URL адрес страницы\n",
    "    :return html страница в виде строки\n",
    "    \"\"\"\n",
    "    try:\n",
    "        with request.urlopen(url) as req:\n",
    "            return req.read().decode('cp1251')\n",
    "    except urllib.error.HTTPError:\n",
    "        return \"Connection error\"\n",
    "    except urllib.error.URLError:\n",
    "        return \"URL error\"\n",
    "    except UnicodeDecodeError:\n",
    "        return \"Decode error\""
   ]
  },
  {
   "cell_type": "code",
   "execution_count": 3,
   "metadata": {},
   "outputs": [],
   "source": [
    "def parse_page(page):\n",
    "    pass"
   ]
  },
  {
   "cell_type": "code",
   "execution_count": null,
   "metadata": {},
   "outputs": [],
   "source": []
  }
 ],
 "metadata": {
  "kernelspec": {
   "display_name": "Python 3",
   "language": "python",
   "name": "python3"
  },
  "language_info": {
   "codemirror_mode": {
    "name": "ipython",
    "version": 3
   },
   "file_extension": ".py",
   "mimetype": "text/x-python",
   "name": "python",
   "nbconvert_exporter": "python",
   "pygments_lexer": "ipython3",
   "version": "3.7.6"
  }
 },
 "nbformat": 4,
 "nbformat_minor": 4
}
